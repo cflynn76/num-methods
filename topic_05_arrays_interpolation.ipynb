{
 "cells": [
  {
   "cell_type": "markdown",
   "metadata": {},
   "source": [
    "# Arrays and interpolation\n",
    "\n",
    "In this lesson, we will learn to create, access, and operate on arrays. We will also interpolate arrays to get values. By the end of the lesson, you will be able to:\n",
    "1.\tcreate, operate on, and access arrays.\n",
    "2.\tinterpolate data in an array.\n",
    "\n",
    "## NumPy - numerical python\n",
    "We are going to start using a library in Python called NumPy. This library contains lots of functions and tools for scientific and engineering computation. Good documentation on using NumPy can be found on [NumPy.org](https://numpy.org/doc/stable/user/absolute_beginners.html).\n",
    "\n",
    "You can install the library in Thonny by clicking on *Tools->Manage packages* and typing *numpy* into the text box at the top.\n",
    "\n",
    "**Note: if running this notebook online, you need to install numpy by running the cell below:**"
   ]
  },
  {
   "cell_type": "code",
   "execution_count": null,
   "metadata": {},
   "outputs": [],
   "source": [
    "!pip3 install numpy"
   ]
  },
  {
   "cell_type": "markdown",
   "metadata": {},
   "source": [
    "To use the library we can import the library at the top of the script."
   ]
  },
  {
   "cell_type": "code",
   "execution_count": null,
   "metadata": {},
   "outputs": [],
   "source": [
    "import numpy as np"
   ]
  },
  {
   "cell_type": "markdown",
   "metadata": {},
   "source": [
    "We will use some tools from Numpy below.\n",
    "## Arrays\n",
    "An array is a collection of elements of the same type. Up to now we have been working with variables that contained a single value, e.g. a = 1. In practice, we usually require variables that store a range of values of the same type.\n",
    "\n",
    "A vector is a one-dimensional array. A vector can be created in Python by typing the following in the command window:"
   ]
  },
  {
   "cell_type": "code",
   "execution_count": null,
   "metadata": {
    "scrolled": true
   },
   "outputs": [],
   "source": [
    "import numpy as np\n",
    "\n",
    "a = np.array([1, 2, 3, 4, 5, 6])"
   ]
  },
  {
   "cell_type": "markdown",
   "metadata": {},
   "source": [
    "You can access specific values in an array easily. To access the third value of the variable *a* type"
   ]
  },
  {
   "cell_type": "code",
   "execution_count": null,
   "metadata": {},
   "outputs": [],
   "source": [
    "a[2]"
   ]
  },
  {
   "cell_type": "markdown",
   "metadata": {},
   "source": [
    "Note that we start counting the position from zero, i.e. the value in the first position in the array is accessed by typing"
   ]
  },
  {
   "cell_type": "code",
   "execution_count": null,
   "metadata": {},
   "outputs": [],
   "source": [
    "a[0]"
   ]
  },
  {
   "cell_type": "markdown",
   "metadata": {},
   "source": [
    "We can acccess the first two values by typing:"
   ]
  },
  {
   "cell_type": "code",
   "execution_count": null,
   "metadata": {},
   "outputs": [],
   "source": [
    "a[0:2]"
   ]
  },
  {
   "cell_type": "markdown",
   "metadata": {},
   "source": [
    "Note that it goes to one short of the index after the colon.\n",
    "\n",
    "The variable *a* is a one dimensional array. We can create arrays of any number of dimensions. For example, the following code creates a two-dimensional array."
   ]
  },
  {
   "cell_type": "code",
   "execution_count": null,
   "metadata": {},
   "outputs": [],
   "source": [
    "b = np.array([[1, 2, 3, 4], [5, 6, 7, 8], [9, 10, 11, 12]])"
   ]
  },
  {
   "cell_type": "markdown",
   "metadata": {},
   "source": [
    "We can print out the contents of the 2D array."
   ]
  },
  {
   "cell_type": "code",
   "execution_count": null,
   "metadata": {},
   "outputs": [],
   "source": [
    "print(b)"
   ]
  },
  {
   "cell_type": "markdown",
   "metadata": {},
   "source": [
    "To access the value in the second row and third column, we type:"
   ]
  },
  {
   "cell_type": "code",
   "execution_count": null,
   "metadata": {},
   "outputs": [],
   "source": [
    "b[1,2]"
   ]
  },
  {
   "cell_type": "markdown",
   "metadata": {},
   "source": [
    "You can access the values in the second row by typing:"
   ]
  },
  {
   "cell_type": "code",
   "execution_count": null,
   "metadata": {},
   "outputs": [],
   "source": [
    "b[1,:]"
   ]
  },
  {
   "cell_type": "markdown",
   "metadata": {},
   "source": [
    "You can access the values in the third column by typing:"
   ]
  },
  {
   "cell_type": "code",
   "execution_count": null,
   "metadata": {},
   "outputs": [],
   "source": [
    "b[:,2]"
   ]
  },
  {
   "cell_type": "markdown",
   "metadata": {},
   "source": [
    "You can change the value of an element of an array easily. For example, to change the element on the third row and fourth column in the array *b* type"
   ]
  },
  {
   "cell_type": "code",
   "execution_count": null,
   "metadata": {},
   "outputs": [],
   "source": [
    "b[2][3] = 45"
   ]
  },
  {
   "cell_type": "markdown",
   "metadata": {},
   "source": [
    "You get some basic information about the size of arrays using the following commands:"
   ]
  },
  {
   "cell_type": "code",
   "execution_count": null,
   "metadata": {},
   "outputs": [],
   "source": [
    "b.ndim # returns the number of dimensions\n",
    "b.size # returns the number of elements in the array\n",
    "b.shape # returns the shape of the array. For a two-dimensional array this would be the number of rows and columns"
   ]
  },
  {
   "cell_type": "markdown",
   "metadata": {},
   "source": [
    "You can add and subrtract matrices of the same size."
   ]
  },
  {
   "cell_type": "code",
   "execution_count": null,
   "metadata": {},
   "outputs": [],
   "source": [
    "d = np.array([1, 2, 3, 4])\n",
    "e = np.array([5, 6, 7, 8])\n",
    "d+e"
   ]
  },
  {
   "cell_type": "markdown",
   "metadata": {},
   "source": [
    "Subtract them by typing."
   ]
  },
  {
   "cell_type": "code",
   "execution_count": null,
   "metadata": {},
   "outputs": [],
   "source": [
    "d-e"
   ]
  },
  {
   "cell_type": "markdown",
   "metadata": {},
   "source": [
    "You can also multiply corresponding elements of an array together using * and /.\n",
    "\n",
    "Multiplying a scalar by an array results in the following:"
   ]
  },
  {
   "cell_type": "code",
   "execution_count": null,
   "metadata": {},
   "outputs": [],
   "source": [
    "f = 3\n",
    "g = np.array([23, 34, 56, 67])\n",
    "f*g"
   ]
  },
  {
   "cell_type": "markdown",
   "metadata": {},
   "source": [
    "Each element of the array is multiplied by the scalar.\n",
    "The transpose of a matrix can be found by typing:"
   ]
  },
  {
   "cell_type": "code",
   "execution_count": null,
   "metadata": {},
   "outputs": [],
   "source": [
    "transpose(b)"
   ]
  },
  {
   "cell_type": "markdown",
   "metadata": {},
   "source": [
    "We can sum up the contents of an array using the sum function."
   ]
  },
  {
   "cell_type": "code",
   "execution_count": null,
   "metadata": {},
   "outputs": [],
   "source": [
    "np.sum(a)"
   ]
  },
  {
   "cell_type": "markdown",
   "metadata": {},
   "source": [
    "We have used the function *range* before when using for loops. It creates an array with a start value, end value, and a step size. In NumPy, there is something similar called *arange*. To create a one-dimensional array with values from 2 to 8 (not including 8) in steps of 0.5, we type:"
   ]
  },
  {
   "cell_type": "code",
   "execution_count": null,
   "metadata": {},
   "outputs": [],
   "source": [
    "m = np.arange(2, 8, 0.5)"
   ]
  },
  {
   "cell_type": "markdown",
   "metadata": {},
   "source": [
    "There are lots of other useful functions in NumPy. We will learn about them when we need to use them.\n",
    "\n",
    "## Exercises\n",
    "1. Create a vector that has values -10 to 16 in steps of 2.\n",
    "2. Create a Python script that calculates the sum of the following series:\n",
    "$$1^2+2^2+3^2+4^2+5^2+\\ldots+1000^2$$\n",
    " \n",
    "3. Calculate the volume of 5 cylinders whose diameters are 2.2 m, 3.2 m, 4.3 m, 5.5 m, and 6.1 m. The height of each cylinder is 5 m. Do the problem in two ways: using for loops and not using for loops.\n",
    "4. Repeat problem 3 but this time the heights of the cylinders are different. They are 2.0 m, 2.3 m, 2.6 m, 3.1 m, 3.5 m. Do the problem in two ways: using for loops and not using for loops.\n",
    "\n",
    "## Interpolation\n",
    "Consider the following two arrays that contain the velocity of an object at a particular time."
   ]
  },
  {
   "cell_type": "code",
   "execution_count": null,
   "metadata": {},
   "outputs": [],
   "source": [
    "time = np.arange(0, 6) # seconds\n",
    "velocity = np.array([0, 2.345, 5.675, 8.945, 10.453, 12.789]) # m/s"
   ]
  },
  {
   "cell_type": "markdown",
   "metadata": {},
   "source": [
    "If we want to estimate the velocity of the object at 2.3 seconds, we can linearly interpolate. There are a number of functions in NumPy to interpolate data. We are going to use the function *interp*, which interpolates 1-D data."
   ]
  },
  {
   "cell_type": "code",
   "execution_count": null,
   "metadata": {},
   "outputs": [],
   "source": [
    "velocity_at_2p3 = np.interp(2.3, time, velocity)"
   ]
  },
  {
   "cell_type": "markdown",
   "metadata": {},
   "source": [
    "Documentation on the *interp* function is available on [NumPy.org](https://numpy.org/doc/stable/reference/generated/numpy.interp.html)."
   ]
  },
  {
   "cell_type": "code",
   "execution_count": null,
   "metadata": {},
   "outputs": [],
   "source": []
  }
 ],
 "metadata": {
  "kernelspec": {
   "display_name": "Python 3",
   "language": "python",
   "name": "python3"
  },
  "language_info": {
   "codemirror_mode": {
    "name": "ipython",
    "version": 3
   },
   "file_extension": ".py",
   "mimetype": "text/x-python",
   "name": "python",
   "nbconvert_exporter": "python",
   "pygments_lexer": "ipython3",
   "version": "3.7.7"
  }
 },
 "nbformat": 4,
 "nbformat_minor": 4
}
