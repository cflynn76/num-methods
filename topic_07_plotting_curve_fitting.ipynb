{
 "cells": [
  {
   "cell_type": "markdown",
   "metadata": {},
   "source": [
    "# Plotting and curve fitting\n",
    "\n",
    "In this lesson, we will create some plots and also fit mathematic models to data using curve-fitting techniques. By the end of the lesson, you will be able to:\n",
    "\n",
    "1.\tcreate a plot with multiple curves, labelled axes, and a legend.\n",
    "2.\tfit a mathematical curve to experimental data using the linear least squares method.\n",
    "\n",
    "\n",
    "## Creating plots\n",
    "To create plots, we are going to use a package called pyplot, which is part of a package called matplotlib. Full documentation can be found on [matplotlib.org](https://matplotlib.org/3.1.1/tutorials/introductory/pyplot.html).\n",
    "\n",
    "You can install the library in Thonny by clicking on *Tools->Manage packages* and typing *matplotlib* into the text box at the top.\n",
    "\n",
    "**Note: if running this notebook online, you need to install numpy by running the cell below:**"
   ]
  },
  {
   "cell_type": "code",
   "execution_count": null,
   "metadata": {},
   "outputs": [],
   "source": [
    "!pip3 install matplotlib"
   ]
  },
  {
   "cell_type": "markdown",
   "metadata": {},
   "source": [
    "To use pyplot in our scripts, we import it as follows:"
   ]
  },
  {
   "cell_type": "code",
   "execution_count": null,
   "metadata": {},
   "outputs": [],
   "source": [
    "import matplotlib.pyplot as plt"
   ]
  },
  {
   "cell_type": "markdown",
   "metadata": {},
   "source": [
    "Consider the following data from a tensile test on specimen:\n",
    "\n",
    "Force (N)   Length (mm)\n",
    "\n",
    "0           25.4\n",
    "\n",
    "13031       25.474\n",
    "\n",
    "21485       25.515\n",
    "\n",
    "31963       25.575\n",
    "\n",
    "34727       25.615\n",
    "\n",
    "37119       25.693\n",
    "\n",
    "37960       25.752\n",
    "\n",
    "39550       25.978\n",
    "\n",
    "40758       26.419\n",
    "\n",
    "40986       26.502\n",
    "\n",
    "41076       26.600\n",
    "\n",
    "41255       26.728\n",
    "\n",
    "41481       27.130\n",
    "\n",
    "41564       27.441\n",
    "\n",
    "We can plot the data above as follows using the [plot()](https://matplotlib.org/3.1.1/api/_as_gen/matplotlib.pyplot.plot.html#matplotlib.pyplot.plot) command."
   ]
  },
  {
   "cell_type": "code",
   "execution_count": null,
   "metadata": {},
   "outputs": [],
   "source": [
    "import matplotlib.pyplot as plt\n",
    "import numpy as np\n",
    "\n",
    "force = np.array([0, 13031, 21485, 31963, 34727, 37119, 37960, 39550, 40758, 40986, 41076, 41255, 41481, 41564])\n",
    "sample_length = np.array([25.4, 25.474, 25.515, 25.575, 25.615, 25.693, 25.752, 25.978, 26.419, 26.502, 26.6, 26.728, 27.13, 27.441])\n",
    "\n",
    "plt.ion() # Allows you to use the shell with plot open; to turn it off use plt.ioff()\n",
    "plt.plot(sample_length, force)\n",
    "# plt.show()  # Needed when plt.off() is used\n"
   ]
  },
  {
   "cell_type": "markdown",
   "metadata": {},
   "source": [
    "Typically, we plot experimental data as points and not lines."
   ]
  },
  {
   "cell_type": "code",
   "execution_count": null,
   "metadata": {},
   "outputs": [],
   "source": [
    "plt.plot(sample_length, force, 'o') # This plots each point as a circle\n",
    "plt.plot(sample_length, force, 'rs') # This plots each point as a red square"
   ]
  },
  {
   "cell_type": "markdown",
   "metadata": {},
   "source": [
    "We can add labels to the axes using [xlabel](https://matplotlib.org/3.3.1/api/_as_gen/matplotlib.pyplot.xlabel.html) and [ylabel](https://matplotlib.org/3.3.1/api/_as_gen/matplotlib.pyplot.ylabel.html)."
   ]
  },
  {
   "cell_type": "code",
   "execution_count": null,
   "metadata": {},
   "outputs": [],
   "source": [
    "plt.xlabel('Length (mm)')\n",
    "plt.ylabel('Force (N)')"
   ]
  },
  {
   "cell_type": "markdown",
   "metadata": {},
   "source": [
    "You can add more plots to the figure by repeatedly using the plot command. Let's add a second set of data to the figure."
   ]
  },
  {
   "cell_type": "code",
   "execution_count": null,
   "metadata": {},
   "outputs": [],
   "source": [
    "force_2 = np.array([0, 12900, 20410, 30364, 33337, 35263, 37200, 38759, 39127, 40576, 39843, 40429, 40236, 41148])\n",
    "sample_length_2 = np.array([25.4, 25.474, 25.515, 25.575, 25.615, 25.95, 26.01, 25.978, 26.684, 26.502, 26.866, 26.728, 27.13, 27.716])\n",
    "\n",
    "plt.plot(sample_length_2, force_2, 'bv') # Adds the second set as blue triangles"
   ]
  },
  {
   "cell_type": "markdown",
   "metadata": {},
   "source": [
    "Finally, we can add a legend to the plot using [legend](https://matplotlib.org/3.3.1/api/_as_gen/matplotlib.pyplot.legend.html?highlight=legend#matplotlib.pyplot.legend)."
   ]
  },
  {
   "cell_type": "code",
   "execution_count": null,
   "metadata": {},
   "outputs": [],
   "source": [
    "plt.legend(('Data set 1','Data set 2'), loc='best') # The best option positions the legend box in the least obtrusive location"
   ]
  },
  {
   "cell_type": "markdown",
   "metadata": {},
   "source": [
    "## Exercise\n",
    "The velocity of an object was measured every second for 10 seconds. A model of the motion was created that best fit the experimental data.\n",
    "\n",
    "Time (s)                     0  1     2     3     4     5     6      7     8     9       10 \n",
    "\n",
    "Experimental velocity (m/s)  0  0.23  0.54  0.81  1.04  1.25  1.395  1.61  2.18  2.4075  2.55 \n",
    "\n",
    "Model velocity (m/s)         0  0.25  0.5   0.75  1     1.25  1.5    1.75  2     2.25    2.5 \n",
    "\n",
    "Plot the experimental and model data on the one figure. Include axes labels and legend. Plot the experimental data as points and the model data as a solid line."
   ]
  },
  {
   "cell_type": "markdown",
   "metadata": {},
   "source": [
    "## Curve fitting using linear least squares method\n",
    "\n",
    "Frequently in engineering we conduct experiments where we observe various parameters over time (e.g. temperature, pressure, load). From the experimental data, we can create mathematical models that describe the observed phenomenon. Curve-fitting is one method of creating these models.\n",
    "\n",
    "Curve fitting is a a procedure where the parameters of a mathematical equation of a model are adjusted so that the model is best-fit to the experimental data. The resulting model curve does not go through all (or sometimes any) of the experimental data points. An overall best fit is achieved.\n",
    "\n",
    "There are many different methods of curve-fitting, which are suited to different situations. we are going to examine the method of least squares and us it to find linear equations that best fit experimental data.\n",
    "Consider the following plot of experimental data.\n",
    "\n",
    "<img src=\"./img/curve_fitting.png\" alt=\"curve fitting using linear least squares\" align='center' style=\"width: 600px;\"/>\n",
    "\n",
    "From observation, a linear equation can be used to best-fit the data. The equation takes the form:\n",
    "$$y=a+bx$$\n",
    "Our goal is to determine the parameters $a$ and $b$.\n",
    "\n",
    "Consider the points *P* and *Q* in the plot above. *P* is the experimental value at $x_i$ and Q is the corresponding model value at $x_i$. The residual or error is the distance $PQ$, which is given by \n",
    "\n",
    "$$PQ=y_i-(a+bx_i)$$\n",
    "\n",
    "From this\n",
    "\n",
    "$$PQ^2=(y_i-a-bx_i)^2)$$\n",
    "\n",
    "If we sum up all the residuals or errors for all the data points we get\n",
    "\n",
    "$$S=\\sum\\limits_{i=1}^{n}(y_i-a-bx_i)^2)$$\n",
    "\n",
    "We want to find $a$ and $b$ such that $S$ is a minimum. $a$ and $b$ can be shown to be\n",
    "\n",
    "$$a=\\frac{\\sum\\limits_{i=1}^{n}y_i-b\\sum\\limits_{i=1}^{n}x_i}{n}$$\n",
    "\n",
    "$$b=\\frac{\\sum\\limits_{i=1}^{n}x_iy_i-\\frac{1}{n}\\sum\\limits_{i=1}^{n}x_i\\sum\\limits_{i=1}^{n}y_i}{\\sum\\limits_{i=1}^{n}x_i^2-\\frac{1}{n}\\left(\\sum\\limits_{i=1}^{n}x_i\\right)^2}$$\n",
    " \n",
    "## Exercise\n",
    "Write a function that finds the parameters $a$ and $b$. The function definition is:"
   ]
  },
  {
   "cell_type": "code",
   "execution_count": null,
   "metadata": {},
   "outputs": [],
   "source": [
    "def linear_least_squares(xi, yi):\n",
    "\n",
    "    n = len(Texp)\n",
    "\n",
    "    b = \n",
    "\n",
    "    a = \n",
    "\n",
    "    return a, b"
   ]
  },
  {
   "cell_type": "markdown",
   "metadata": {},
   "source": [
    "Consider the following data:"
   ]
  },
  {
   "cell_type": "code",
   "execution_count": null,
   "metadata": {},
   "outputs": [],
   "source": [
    "import numpy as np\n",
    "\n",
    "xi = np.array([0, 1, 2, 3, 4])\n",
    "yi = np.array([0.1, 0.11, 0.18, 0.31, 0.39])"
   ]
  },
  {
   "cell_type": "markdown",
   "metadata": {},
   "source": [
    "Find the linear equation that best fits that data. Show the experimental data and the equation on the one plot.\n",
    "\n",
    "## Problem 1\n",
    "According to Charles' Law for an ideal gas at constant volume, a linear relationship exists between the pressure P and temperature T. The following results are from heating a gas in a sealed container.\n",
    "\n",
    "T ($^o$C)  0    10   20   30   40   50   60   70   80   90   100\n",
    "\n",
    "P (atm) 0.94 0.96 1.00 1.05 1.07 1.09 1.14 1.17 1.21 1.24 1.28 \n",
    "\n",
    "1.\tDetermine the linear fit equation.\n",
    "2.\tPlot the experimental data with the model equation superimposed on it. Include axes labels, and legend.\n",
    "3.\tExtrapolate the linear fit equation until it crosses the horizontal line. What is the temperature when the pressure is zero?\n"
   ]
  },
  {
   "cell_type": "code",
   "execution_count": null,
   "metadata": {},
   "outputs": [],
   "source": []
  }
 ],
 "metadata": {
  "kernelspec": {
   "display_name": "Python 3",
   "language": "python",
   "name": "python3"
  },
  "language_info": {
   "codemirror_mode": {
    "name": "ipython",
    "version": 3
   },
   "file_extension": ".py",
   "mimetype": "text/x-python",
   "name": "python",
   "nbconvert_exporter": "python",
   "pygments_lexer": "ipython3",
   "version": "3.7.7"
  }
 },
 "nbformat": 4,
 "nbformat_minor": 4
}
